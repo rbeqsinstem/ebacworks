{
  "nbformat": 4,
  "nbformat_minor": 0,
  "metadata": {
    "colab": {
      "provenance": [],
      "authorship_tag": "ABX9TyNCTfRaHxdmeyJslaFkLEyW",
      "include_colab_link": true
    },
    "kernelspec": {
      "name": "python3",
      "display_name": "Python 3"
    },
    "language_info": {
      "name": "python"
    }
  },
  "cells": [
    {
      "cell_type": "markdown",
      "metadata": {
        "id": "view-in-github",
        "colab_type": "text"
      },
      "source": [
        "<a href=\"https://colab.research.google.com/github/rbeqsinstem/ebacworks/blob/main/Operadores.ipynb\" target=\"_parent\"><img src=\"https://colab.research.google.com/assets/colab-badge.svg\" alt=\"Open In Colab\"/></a>"
      ]
    },
    {
      "cell_type": "markdown",
      "source": [
        "## Operadores:\n",
        "## Operadores Aritméticos\n",
        "\n",
        "\n",
        "---\n",
        "\n"
      ],
      "metadata": {
        "id": "kJrX9pTf57FR"
      }
    },
    {
      "cell_type": "markdown",
      "source": [
        "`Adição:`\n",
        "\n",
        "\n"
      ],
      "metadata": {
        "id": "eAlnYPlX6dUL"
      }
    },
    {
      "cell_type": "code",
      "source": [
        "1 + 2"
      ],
      "metadata": {
        "colab": {
          "base_uri": "https://localhost:8080/"
        },
        "id": "IgQwcmO86bN5",
        "outputId": "cbdcce74-187a-46a7-88b3-40bf68642776"
      },
      "execution_count": 3,
      "outputs": [
        {
          "output_type": "execute_result",
          "data": {
            "text/plain": [
              "3"
            ]
          },
          "metadata": {},
          "execution_count": 3
        }
      ]
    },
    {
      "cell_type": "markdown",
      "source": [
        "`Subtração:`"
      ],
      "metadata": {
        "id": "mhXmidbU7cv0"
      }
    },
    {
      "cell_type": "code",
      "source": [
        "1-2"
      ],
      "metadata": {
        "colab": {
          "base_uri": "https://localhost:8080/"
        },
        "id": "TfsflJ907iPF",
        "outputId": "f5261331-49ec-49a4-9bf2-e0d1b7b0f5f7"
      },
      "execution_count": 4,
      "outputs": [
        {
          "output_type": "execute_result",
          "data": {
            "text/plain": [
              "-1"
            ]
          },
          "metadata": {},
          "execution_count": 4
        }
      ]
    },
    {
      "cell_type": "markdown",
      "source": [
        "`Multiplicação:`"
      ],
      "metadata": {
        "id": "TZYH09IR74_8"
      }
    },
    {
      "cell_type": "code",
      "source": [
        "1*2"
      ],
      "metadata": {
        "colab": {
          "base_uri": "https://localhost:8080/"
        },
        "id": "SaiSfJww8M8X",
        "outputId": "6b3c325b-4809-4dee-aeea-b5df30a9aec3"
      },
      "execution_count": 5,
      "outputs": [
        {
          "output_type": "execute_result",
          "data": {
            "text/plain": [
              "2"
            ]
          },
          "metadata": {},
          "execution_count": 5
        }
      ]
    },
    {
      "cell_type": "markdown",
      "source": [
        "`Divisão:`"
      ],
      "metadata": {
        "id": "QCvw8etX7_Yu"
      }
    },
    {
      "cell_type": "code",
      "source": [
        "1/2"
      ],
      "metadata": {
        "colab": {
          "base_uri": "https://localhost:8080/"
        },
        "id": "aSPAMTWr8TrX",
        "outputId": "15f7fb13-a7df-4646-d69a-271497a6dfc4"
      },
      "execution_count": 6,
      "outputs": [
        {
          "output_type": "execute_result",
          "data": {
            "text/plain": [
              "0.5"
            ]
          },
          "metadata": {},
          "execution_count": 6
        }
      ]
    },
    {
      "cell_type": "markdown",
      "source": [
        "`Divisão Inteira:`"
      ],
      "metadata": {
        "id": "y60iS7Qo8Cvy"
      }
    },
    {
      "cell_type": "code",
      "source": [
        "1//2"
      ],
      "metadata": {
        "colab": {
          "base_uri": "https://localhost:8080/"
        },
        "id": "S4dwedZF8aoB",
        "outputId": "b492f781-bd77-4038-e645-e3345bf5ef55"
      },
      "execution_count": 7,
      "outputs": [
        {
          "output_type": "execute_result",
          "data": {
            "text/plain": [
              "0"
            ]
          },
          "metadata": {},
          "execution_count": 7
        }
      ]
    },
    {
      "cell_type": "markdown",
      "source": [
        "`Resto da Divisão:`"
      ],
      "metadata": {
        "id": "zrlPx3l88Fr8"
      }
    },
    {
      "cell_type": "code",
      "source": [
        "1%2"
      ],
      "metadata": {
        "colab": {
          "base_uri": "https://localhost:8080/"
        },
        "id": "R-U9LYH58hms",
        "outputId": "51ae0c6d-8e8b-410c-8a41-ab6a8be69d7d"
      },
      "execution_count": 8,
      "outputs": [
        {
          "output_type": "execute_result",
          "data": {
            "text/plain": [
              "1"
            ]
          },
          "metadata": {},
          "execution_count": 8
        }
      ]
    },
    {
      "cell_type": "markdown",
      "source": [
        "`Potenciação:`"
      ],
      "metadata": {
        "id": "PezeWZOh8JKD"
      }
    },
    {
      "cell_type": "code",
      "source": [
        "1**2"
      ],
      "metadata": {
        "colab": {
          "base_uri": "https://localhost:8080/"
        },
        "id": "OJgphF1q8lUy",
        "outputId": "4a61520b-077e-493c-8270-e13e82cd09e9"
      },
      "execution_count": 9,
      "outputs": [
        {
          "output_type": "execute_result",
          "data": {
            "text/plain": [
              "1"
            ]
          },
          "metadata": {},
          "execution_count": 9
        }
      ]
    },
    {
      "cell_type": "markdown",
      "source": [
        "## Operadores Relacionais\n",
        "\n",
        "\n",
        "---\n",
        "\n"
      ],
      "metadata": {
        "id": "OoUV4yON8wzV"
      }
    },
    {
      "cell_type": "markdown",
      "source": [
        "`Menor:`"
      ],
      "metadata": {
        "id": "LHITRrof9ptD"
      }
    },
    {
      "cell_type": "code",
      "source": [
        "10 < 2"
      ],
      "metadata": {
        "colab": {
          "base_uri": "https://localhost:8080/"
        },
        "id": "bh2j_mUj87Et",
        "outputId": "c15f9257-e8bc-4f70-f714-08cf5cc8f3fb"
      },
      "execution_count": 10,
      "outputs": [
        {
          "output_type": "execute_result",
          "data": {
            "text/plain": [
              "False"
            ]
          },
          "metadata": {},
          "execution_count": 10
        }
      ]
    },
    {
      "cell_type": "markdown",
      "source": [
        "`Menor ou igual:`"
      ],
      "metadata": {
        "id": "mRBDv8KCA5WX"
      }
    },
    {
      "cell_type": "code",
      "source": [
        "1 <= 10"
      ],
      "metadata": {
        "colab": {
          "base_uri": "https://localhost:8080/"
        },
        "id": "b4gpC7KABoSV",
        "outputId": "1ac7bb15-a04a-4b41-992b-954bea1a67d1"
      },
      "execution_count": 11,
      "outputs": [
        {
          "output_type": "execute_result",
          "data": {
            "text/plain": [
              "True"
            ]
          },
          "metadata": {},
          "execution_count": 11
        }
      ]
    },
    {
      "cell_type": "markdown",
      "source": [
        "`Maior `:"
      ],
      "metadata": {
        "id": "7UwuGIYeA7u8"
      }
    },
    {
      "cell_type": "code",
      "source": [
        "6>3"
      ],
      "metadata": {
        "colab": {
          "base_uri": "https://localhost:8080/"
        },
        "id": "ToUW08G6BqOm",
        "outputId": "e537dea2-44f2-4e36-b2a0-7c14005cd695"
      },
      "execution_count": 33,
      "outputs": [
        {
          "output_type": "execute_result",
          "data": {
            "text/plain": [
              "True"
            ]
          },
          "metadata": {},
          "execution_count": 33
        }
      ]
    },
    {
      "cell_type": "markdown",
      "source": [
        "`Maior ou igual: `"
      ],
      "metadata": {
        "id": "HSM4c51fBJDK"
      }
    },
    {
      "cell_type": "code",
      "source": [
        "2 >= 2"
      ],
      "metadata": {
        "colab": {
          "base_uri": "https://localhost:8080/"
        },
        "id": "L_Hm4zpkBruO",
        "outputId": "43dc5a98-1823-481d-8534-9c51af1b70e1"
      },
      "execution_count": 13,
      "outputs": [
        {
          "output_type": "execute_result",
          "data": {
            "text/plain": [
              "True"
            ]
          },
          "metadata": {},
          "execution_count": 13
        }
      ]
    },
    {
      "cell_type": "markdown",
      "source": [
        "`Igual:`"
      ],
      "metadata": {
        "id": "5MdboLp9BOof"
      }
    },
    {
      "cell_type": "code",
      "source": [
        "5 == 5"
      ],
      "metadata": {
        "colab": {
          "base_uri": "https://localhost:8080/"
        },
        "id": "xSu-A6u0BsrQ",
        "outputId": "26d8c211-c7de-46fd-8180-6d7faa389bb5"
      },
      "execution_count": 14,
      "outputs": [
        {
          "output_type": "execute_result",
          "data": {
            "text/plain": [
              "True"
            ]
          },
          "metadata": {},
          "execution_count": 14
        }
      ]
    },
    {
      "cell_type": "markdown",
      "source": [
        "`Diferente:`"
      ],
      "metadata": {
        "id": "MpyZQufMBcfV"
      }
    },
    {
      "cell_type": "code",
      "source": [
        "5 != 8"
      ],
      "metadata": {
        "colab": {
          "base_uri": "https://localhost:8080/"
        },
        "id": "ztXxduiPBvGW",
        "outputId": "19ace479-1267-4e16-b0bd-825b0c086c30"
      },
      "execution_count": 15,
      "outputs": [
        {
          "output_type": "execute_result",
          "data": {
            "text/plain": [
              "True"
            ]
          },
          "metadata": {},
          "execution_count": 15
        }
      ]
    },
    {
      "cell_type": "markdown",
      "source": [
        "## Operadores Lógicos"
      ],
      "metadata": {
        "id": "8-20_xvnGNQG"
      }
    },
    {
      "cell_type": "markdown",
      "source": [
        "`AND:`"
      ],
      "metadata": {
        "id": "c664hu5NIuuh"
      }
    },
    {
      "cell_type": "code",
      "source": [
        "print( 2>1 and 5<8 ) # V and V - V"
      ],
      "metadata": {
        "colab": {
          "base_uri": "https://localhost:8080/"
        },
        "id": "ukJi3JCkJMK_",
        "outputId": "c71e8a0f-2ca6-44f8-85fe-345b5f9abd99"
      },
      "execution_count": 25,
      "outputs": [
        {
          "output_type": "stream",
          "name": "stdout",
          "text": [
            "True\n"
          ]
        }
      ]
    },
    {
      "cell_type": "code",
      "source": [
        "print( 10<2 and 4>6 ) # V and F - F"
      ],
      "metadata": {
        "colab": {
          "base_uri": "https://localhost:8080/"
        },
        "id": "BcuoZ3pSKJ2G",
        "outputId": "b99d60c6-a1f7-4172-f254-9f0970866a15"
      },
      "execution_count": 26,
      "outputs": [
        {
          "output_type": "stream",
          "name": "stdout",
          "text": [
            "False\n"
          ]
        }
      ]
    },
    {
      "cell_type": "code",
      "source": [
        "print( 10<7 and 4<6 ) # V and F - F"
      ],
      "metadata": {
        "colab": {
          "base_uri": "https://localhost:8080/"
        },
        "id": "_RZ6MjKfKoYz",
        "outputId": "dd876dbf-eb36-4073-e69c-9a09f552b499"
      },
      "execution_count": 27,
      "outputs": [
        {
          "output_type": "stream",
          "name": "stdout",
          "text": [
            "False\n"
          ]
        }
      ]
    },
    {
      "cell_type": "code",
      "source": [
        "print( 10<7 and 4>6 ) # F and F - F"
      ],
      "metadata": {
        "colab": {
          "base_uri": "https://localhost:8080/"
        },
        "id": "US0df09WLLgX",
        "outputId": "a328756d-0b16-4bf1-de54-0ee6887ed941"
      },
      "execution_count": 29,
      "outputs": [
        {
          "output_type": "stream",
          "name": "stdout",
          "text": [
            "False\n"
          ]
        }
      ]
    },
    {
      "cell_type": "markdown",
      "source": [
        "`OR:`"
      ],
      "metadata": {
        "id": "xHz6l6hWLf90"
      }
    },
    {
      "cell_type": "code",
      "source": [
        "print(2>1 or 5<8 ) # T or T - T"
      ],
      "metadata": {
        "colab": {
          "base_uri": "https://localhost:8080/"
        },
        "id": "fb67to8ELitO",
        "outputId": "0d614070-1b38-466b-fd0a-1ece588d3799"
      },
      "execution_count": 30,
      "outputs": [
        {
          "output_type": "stream",
          "name": "stdout",
          "text": [
            "True\n"
          ]
        }
      ]
    },
    {
      "cell_type": "code",
      "source": [
        "print(2>1 or 5>8) # T or F - T"
      ],
      "metadata": {
        "colab": {
          "base_uri": "https://localhost:8080/"
        },
        "id": "A5jSqcdnTBPH",
        "outputId": "1fb630cf-f880-425f-e19b-e3bd73c09089"
      },
      "execution_count": 31,
      "outputs": [
        {
          "output_type": "stream",
          "name": "stdout",
          "text": [
            "True\n"
          ]
        }
      ]
    },
    {
      "cell_type": "code",
      "source": [
        "print(2<1 or 5<8) #F or T - T"
      ],
      "metadata": {
        "colab": {
          "base_uri": "https://localhost:8080/"
        },
        "id": "tFD2u6dKUZzC",
        "outputId": "edc463d3-ae9e-459d-ef5d-72b4f1a5f677"
      },
      "execution_count": 34,
      "outputs": [
        {
          "output_type": "stream",
          "name": "stdout",
          "text": [
            "True\n"
          ]
        }
      ]
    },
    {
      "cell_type": "code",
      "source": [
        "print(2<1 or 5>8) #F or F - F"
      ],
      "metadata": {
        "colab": {
          "base_uri": "https://localhost:8080/"
        },
        "id": "sdLzTXV_Uqam",
        "outputId": "fa727321-fd3a-49f6-fc4d-02bc49a73379"
      },
      "execution_count": 35,
      "outputs": [
        {
          "output_type": "stream",
          "name": "stdout",
          "text": [
            "False\n"
          ]
        }
      ]
    },
    {
      "cell_type": "markdown",
      "source": [
        "`NOT:`"
      ],
      "metadata": {
        "id": "2aiIevvFU6ZJ"
      }
    },
    {
      "cell_type": "code",
      "source": [
        "not 10>2 # V-F"
      ],
      "metadata": {
        "colab": {
          "base_uri": "https://localhost:8080/"
        },
        "id": "v3tzU0giVCX_",
        "outputId": "b53ae441-e9e5-416a-90d6-c5942c31beba"
      },
      "execution_count": 36,
      "outputs": [
        {
          "output_type": "execute_result",
          "data": {
            "text/plain": [
              "False"
            ]
          },
          "metadata": {},
          "execution_count": 36
        }
      ]
    },
    {
      "cell_type": "code",
      "source": [
        "not 10<2 #F-V"
      ],
      "metadata": {
        "colab": {
          "base_uri": "https://localhost:8080/"
        },
        "id": "aqljebXcVaJh",
        "outputId": "2ab78271-3f1e-4cef-92ac-4b546a6a7942"
      },
      "execution_count": 37,
      "outputs": [
        {
          "output_type": "execute_result",
          "data": {
            "text/plain": [
              "True"
            ]
          },
          "metadata": {},
          "execution_count": 37
        }
      ]
    }
  ]
}