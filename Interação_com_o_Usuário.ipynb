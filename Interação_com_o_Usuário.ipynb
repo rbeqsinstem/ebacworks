{
  "nbformat": 4,
  "nbformat_minor": 0,
  "metadata": {
    "colab": {
      "provenance": [],
      "authorship_tag": "ABX9TyNVvEP7Pfw73J3JuEA3SjmS",
      "include_colab_link": true
    },
    "kernelspec": {
      "name": "python3",
      "display_name": "Python 3"
    },
    "language_info": {
      "name": "python"
    }
  },
  "cells": [
    {
      "cell_type": "markdown",
      "metadata": {
        "id": "view-in-github",
        "colab_type": "text"
      },
      "source": [
        "<a href=\"https://colab.research.google.com/github/rbeqsinstem/ebacworks/blob/main/Intera%C3%A7%C3%A3o_com_o_Usu%C3%A1rio.ipynb\" target=\"_parent\"><img src=\"https://colab.research.google.com/assets/colab-badge.svg\" alt=\"Open In Colab\"/></a>"
      ]
    },
    {
      "cell_type": "markdown",
      "source": [
        "## Visualização de Variáveis e Textos"
      ],
      "metadata": {
        "id": "62Zo4b0GxIda"
      }
    },
    {
      "cell_type": "code",
      "execution_count": 2,
      "metadata": {
        "colab": {
          "base_uri": "https://localhost:8080/"
        },
        "id": "8-DyESDqw7C8",
        "outputId": "9ff10dcd-6acb-4611-a439-227e810cda34"
      },
      "outputs": [
        {
          "output_type": "stream",
          "name": "stdout",
          "text": [
            "Conhecendo o Comando Print\n",
            "8\n"
          ]
        }
      ],
      "source": [
        "print ('Conhecendo o Comando Print')\n",
        "\n",
        "x = 8\n",
        "print (x)"
      ]
    },
    {
      "cell_type": "code",
      "source": [
        "y=10\n",
        "soma = x + y\n",
        "print (soma)"
      ],
      "metadata": {
        "colab": {
          "base_uri": "https://localhost:8080/"
        },
        "id": "kYL0MuQQyD2p",
        "outputId": "e6a1cca0-78ea-41a3-ca81-f73d89a9a886"
      },
      "execution_count": 3,
      "outputs": [
        {
          "output_type": "stream",
          "name": "stdout",
          "text": [
            "18\n"
          ]
        }
      ]
    },
    {
      "cell_type": "code",
      "source": [
        "nome = 'Rebeca Cruz'\n",
        "print (nome)"
      ],
      "metadata": {
        "colab": {
          "base_uri": "https://localhost:8080/"
        },
        "id": "kDhn2bAhyOut",
        "outputId": "a0d35c5c-72fe-436a-d270-879687cac4e1"
      },
      "execution_count": 4,
      "outputs": [
        {
          "output_type": "stream",
          "name": "stdout",
          "text": [
            "Rebeca Cruz\n"
          ]
        }
      ]
    },
    {
      "cell_type": "markdown",
      "source": [
        "### Concatenação"
      ],
      "metadata": {
        "id": "vqmlCrOAyYZN"
      }
    },
    {
      "cell_type": "markdown",
      "source": [
        "*Operador de Vírgula*"
      ],
      "metadata": {
        "id": "QmGbPL0Iy2p5"
      }
    },
    {
      "cell_type": "code",
      "source": [
        "x = 5\n",
        "print ('O valor de x é', x )"
      ],
      "metadata": {
        "colab": {
          "base_uri": "https://localhost:8080/"
        },
        "id": "j5fhk2wJyfiO",
        "outputId": "0e15c4ac-462c-48ab-c6a5-c25b4c49c9fa"
      },
      "execution_count": 5,
      "outputs": [
        {
          "output_type": "stream",
          "name": "stdout",
          "text": [
            "O valor de x é 5\n"
          ]
        }
      ]
    },
    {
      "cell_type": "markdown",
      "source": [
        "*Operação aritmética*"
      ],
      "metadata": {
        "id": "qtbS4tPOzPTK"
      }
    },
    {
      "cell_type": "code",
      "source": [
        "print ('O valor de x é', x, 'e o valor de y é', x * 2)"
      ],
      "metadata": {
        "colab": {
          "base_uri": "https://localhost:8080/"
        },
        "id": "8WBshYNgy1pj",
        "outputId": "abfde13f-ddcf-461e-b4ca-858bb230647f"
      },
      "execution_count": 7,
      "outputs": [
        {
          "output_type": "stream",
          "name": "stdout",
          "text": [
            "O valor de x é 5 e o valor de y é 10\n"
          ]
        }
      ]
    },
    {
      "cell_type": "code",
      "source": [
        "print ('Eu', nome, 'tirei', x, 'na prova de Phyton')"
      ],
      "metadata": {
        "colab": {
          "base_uri": "https://localhost:8080/"
        },
        "id": "4nKU_pOEziub",
        "outputId": "1204bb25-dae1-4e3f-c66c-fa20be5e63fc"
      },
      "execution_count": 9,
      "outputs": [
        {
          "output_type": "stream",
          "name": "stdout",
          "text": [
            "Eu Rebeca Cruz tirei 5 na prova de Phyton\n"
          ]
        }
      ]
    },
    {
      "cell_type": "markdown",
      "source": [
        "*Variáveis na mesma linha*"
      ],
      "metadata": {
        "id": "CrDPVZPSzb-H"
      }
    },
    {
      "cell_type": "code",
      "source": [
        "y = 10; z = 20 + x - y\n",
        "print ('Declarar várias variáveis na mesma linha:', y,'e', z)"
      ],
      "metadata": {
        "colab": {
          "base_uri": "https://localhost:8080/"
        },
        "id": "CqirVoNVz6KG",
        "outputId": "e00c9ab9-4cb9-412a-f357-7573c1a5f6da"
      },
      "execution_count": 13,
      "outputs": [
        {
          "output_type": "stream",
          "name": "stdout",
          "text": [
            "Declarar várias variáveis na mesma linha: 10 e 15\n"
          ]
        }
      ]
    },
    {
      "cell_type": "markdown",
      "source": [
        "## Type"
      ],
      "metadata": {
        "id": "1JnoEibv0da3"
      }
    },
    {
      "cell_type": "markdown",
      "source": [
        "*Conversão de Variável*"
      ],
      "metadata": {
        "id": "ESVOuzss60Dd"
      }
    },
    {
      "cell_type": "code",
      "source": [
        "x = 10\n",
        "type (x)\n",
        "print ('x' , type (x))\n",
        "\n",
        "nome = 'Rebeca'\n",
        "print ('nome', type(nome))\n",
        "\n",
        "num = '100'\n",
        "num_convert = int(num)\n",
        "print('num',type(num))\n",
        "print('num_conver',type(num_convert))\n",
        "\n",
        "num_float = float (num)\n",
        "print ('num_float', num_float)"
      ],
      "metadata": {
        "colab": {
          "base_uri": "https://localhost:8080/"
        },
        "id": "8NImBf2r0g4O",
        "outputId": "acde28c2-2eed-4d71-a718-83bfadef786c"
      },
      "execution_count": 15,
      "outputs": [
        {
          "output_type": "stream",
          "name": "stdout",
          "text": [
            "x <class 'int'>\n",
            "nome <class 'str'>\n",
            "num <class 'str'>\n",
            "num_conver <class 'int'>\n",
            "num_float 100.0\n"
          ]
        }
      ]
    },
    {
      "cell_type": "markdown",
      "source": [
        "## Input"
      ],
      "metadata": {
        "id": "6egg4z1W6-FF"
      }
    },
    {
      "cell_type": "code",
      "source": [
        "nome = input (\"Digite o nome do usuário \")\n",
        "print(nome)"
      ],
      "metadata": {
        "colab": {
          "base_uri": "https://localhost:8080/"
        },
        "id": "Ag0acsUA7CdT",
        "outputId": "8eb25e45-9130-457e-9053-d720fe504859"
      },
      "execution_count": 17,
      "outputs": [
        {
          "output_type": "stream",
          "name": "stdout",
          "text": [
            "Digite o nome do usuário Rebeca\n",
            "Rebeca\n"
          ]
        }
      ]
    },
    {
      "cell_type": "code",
      "source": [
        "valor = input ('Digite a nota ')\n",
        "print (nome,'sua nota foi', valor)"
      ],
      "metadata": {
        "colab": {
          "base_uri": "https://localhost:8080/"
        },
        "id": "-lh0IoE17Xtr",
        "outputId": "74208bd6-a43a-437e-a728-4a4edcc35110"
      },
      "execution_count": 19,
      "outputs": [
        {
          "output_type": "stream",
          "name": "stdout",
          "text": [
            "Digite a nota 10\n",
            "Rebeca sua nota foi 10\n"
          ]
        }
      ]
    },
    {
      "cell_type": "code",
      "source": [
        "valor=input ('Digite o valor do produto: ')\n",
        "print (valor)"
      ],
      "metadata": {
        "colab": {
          "base_uri": "https://localhost:8080/"
        },
        "id": "LU-ptby17y9K",
        "outputId": "792aa8f0-fdd2-488c-9c99-89e7869f3312"
      },
      "execution_count": 20,
      "outputs": [
        {
          "output_type": "stream",
          "name": "stdout",
          "text": [
            "Digite o valor do produto: 900\n",
            "900\n"
          ]
        }
      ]
    },
    {
      "cell_type": "markdown",
      "source": [
        "*Representação do TypeError e Resoluções*"
      ],
      "metadata": {
        "id": "JxdQpV3x_aIP"
      }
    },
    {
      "cell_type": "code",
      "source": [
        "desconto = valor - 5"
      ],
      "metadata": {
        "colab": {
          "base_uri": "https://localhost:8080/",
          "height": 141
        },
        "id": "pf0ewXyp9Sht",
        "outputId": "e0b1c814-fea8-4753-8cf4-6a1f8eb713c2"
      },
      "execution_count": 33,
      "outputs": [
        {
          "output_type": "error",
          "ename": "TypeError",
          "evalue": "unsupported operand type(s) for -: 'str' and 'int'",
          "traceback": [
            "\u001b[0;31m---------------------------------------------------------------------------\u001b[0m",
            "\u001b[0;31mTypeError\u001b[0m                                 Traceback (most recent call last)",
            "\u001b[0;32m/tmp/ipython-input-33-2171237004.py\u001b[0m in \u001b[0;36m<cell line: 0>\u001b[0;34m()\u001b[0m\n\u001b[0;32m----> 1\u001b[0;31m \u001b[0mdesconto\u001b[0m \u001b[0;34m=\u001b[0m \u001b[0mvalor\u001b[0m \u001b[0;34m-\u001b[0m \u001b[0;36m5\u001b[0m\u001b[0;34m\u001b[0m\u001b[0;34m\u001b[0m\u001b[0m\n\u001b[0m",
            "\u001b[0;31mTypeError\u001b[0m: unsupported operand type(s) for -: 'str' and 'int'"
          ]
        }
      ]
    },
    {
      "cell_type": "code",
      "source": [
        "valor_convert = int(valor)\n",
        "desconto = valor_convert - 5\n",
        "print (desconto)"
      ],
      "metadata": {
        "colab": {
          "base_uri": "https://localhost:8080/"
        },
        "id": "wnf6r8FJ9SU9",
        "outputId": "74d2590f-ff30-46da-e741-fafeb0f30893"
      },
      "execution_count": 32,
      "outputs": [
        {
          "output_type": "stream",
          "name": "stdout",
          "text": [
            "895\n"
          ]
        }
      ]
    },
    {
      "cell_type": "code",
      "source": [
        "desconto - int(valor) - 5\n",
        "print(desconto)"
      ],
      "metadata": {
        "colab": {
          "base_uri": "https://localhost:8080/"
        },
        "id": "NUq92EBN_CYe",
        "outputId": "e3bfdd6b-0207-48aa-b124-55cc1fc8145f"
      },
      "execution_count": 34,
      "outputs": [
        {
          "output_type": "stream",
          "name": "stdout",
          "text": [
            "895\n"
          ]
        }
      ]
    }
  ]
}