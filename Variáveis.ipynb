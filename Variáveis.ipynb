{
  "nbformat": 4,
  "nbformat_minor": 0,
  "metadata": {
    "colab": {
      "provenance": [],
      "authorship_tag": "ABX9TyNxF6X/19Eh709seXQv4St3",
      "include_colab_link": true
    },
    "kernelspec": {
      "name": "python3",
      "display_name": "Python 3"
    },
    "language_info": {
      "name": "python"
    }
  },
  "cells": [
    {
      "cell_type": "markdown",
      "metadata": {
        "id": "view-in-github",
        "colab_type": "text"
      },
      "source": [
        "<a href=\"https://colab.research.google.com/github/rbeqsinstem/ebacworks/blob/main/Vari%C3%A1veis.ipynb\" target=\"_parent\"><img src=\"https://colab.research.google.com/assets/colab-badge.svg\" alt=\"Open In Colab\"/></a>"
      ]
    },
    {
      "cell_type": "markdown",
      "source": [
        "# Variáveis"
      ],
      "metadata": {
        "id": "WlYM-LS9-2aS"
      }
    },
    {
      "cell_type": "markdown",
      "source": [
        "Variáveis estão alocadas em espaços de memória."
      ],
      "metadata": {
        "id": "8ZQHbnnD_Xzh"
      }
    },
    {
      "cell_type": "code",
      "source": [
        "# Nome da variável é \"x\" que armazena um valor 10 em um espaço de memória.\n",
        "X - 10\n",
        "print (x) # Utilizar a referência no nome atribuído."
      ],
      "metadata": {
        "id": "8rpTbT5C_MXm"
      },
      "execution_count": null,
      "outputs": []
    },
    {
      "cell_type": "markdown",
      "source": [
        "### Regras"
      ],
      "metadata": {
        "id": "2-unkAHPBcxN"
      }
    },
    {
      "cell_type": "markdown",
      "source": [
        "**Case Senstive**\n",
        "\n",
        "A ! = a\n",
        "\n",
        "**Boas práticas com variáveis**\n",
        "\n",
        "> Exemplo: Multiplicação de dois números.\n",
        "\n",
        "Não Usar\n",
        "\n",
        "\n",
        "*   Multiplicação\n",
        "*   MultiplicaçãoDeDoisNúmeros\n",
        "*   m\n",
        "\n",
        "Usar\n",
        "\n",
        "*   multiplicacao\n",
        "*   mult\n",
        "*   mult_total (snake case)\n",
        "\n"
      ],
      "metadata": {
        "id": "nuVhCdjnLSK6"
      }
    },
    {
      "cell_type": "markdown",
      "source": [
        "### Tipos de Variáveis\n",
        "\n",
        "> Python é uma linguagem de alto nível.\n",
        "\n",
        "\n",
        "*   Não é necessário especificar os tipos de dados quando declarar a variável.\n",
        "*   Python define os tipos de dados na declaração.\n",
        "---\n",
        "`Int` ; `float` *e* `string`\n",
        "\n",
        "*Inteiro; Real e Texto*\n",
        "\n",
        "10 ------- 10.5 ----- \"Alice\"\n",
        "\n",
        "---\n",
        "\n",
        "\n",
        "\n",
        "\n",
        "\n",
        "\n",
        "\n",
        "\n",
        "\n",
        "\n"
      ],
      "metadata": {
        "id": "1aW4PXluMxQh"
      }
    }
  ]
}